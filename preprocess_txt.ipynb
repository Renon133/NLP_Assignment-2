{
 "cells": [
  {
   "cell_type": "code",
   "execution_count": 1,
   "metadata": {},
   "outputs": [],
   "source": [
    "import pandas as pd\n",
    "import re\n",
    "\n",
    "# Load the CSV file\n",
    "input_csv_path = 'gujarati_wiki_scraped.csv'  # Replace with your actual CSV file path\n",
    "output_txt_path = 'preprocessed_gujarati_wiki_data.txt'\n",
    "\n",
    "\n",
    "# Preprocess the text data\n",
    "def preprocess_text(text):\n",
    "    # Remove English characters and special symbols but keep Gujarati characters, numbers, and basic punctuation\n",
    "    cleaned_text = re.sub(r'[^\\u0A80-\\u0AFF0-9\\s.,!?]', '', str(text))\n",
    "    return cleaned_text.strip()\n"
   ]
  },
  {
   "cell_type": "code",
   "execution_count": 2,
   "metadata": {},
   "outputs": [],
   "source": [
    "# Read the CSV file\n",
    "df = pd.read_csv(input_csv_path)\n"
   ]
  },
  {
   "cell_type": "code",
   "execution_count": 3,
   "metadata": {},
   "outputs": [],
   "source": [
    "# Apply preprocessing to the DATA column\n",
    "preprocessed_text = df['DATA'].apply(preprocess_text)"
   ]
  },
  {
   "cell_type": "code",
   "execution_count": 7,
   "metadata": {},
   "outputs": [
    {
     "data": {
      "text/plain": [
       "0        પાયથોન એક સામાન્ય હેતુ ઈન્ટરપ્રીટેડ ઉચ્ચ સ્તરન...\n",
       "1        ઉચ્ચાર સી પ્લસ પ્લસએ મલ્ટી પેરાડિગમ, સરળ, આધુન...\n",
       "2        એ સામાન્ય હેતુ તેમજ સીસ્ટમ પ્રોગ્રામિંગ માટે વ...\n",
       "3        આ લેખનું સાચુ શિર્ષક  પ્રોગ્રામિંગ ભાષા છે, પર...\n",
       "4        ઈન્ટરનેટ પ્રોટોકોલ એડ્રેસ  એડ્રેસ એક સંખ્યાત્મ...\n",
       "                               ...                        \n",
       "14906    ચમનપુરા તા. દિયોદર ભારત દેશના પશ્ચિમ ભાગમાં આવ...\n",
       "14907    ચાવળા તા. દિયોદર ભારત દેશના પશ્ચિમ ભાગમાં આવેલ...\n",
       "14908    ચીભડા તા. દિયોદર ભારત દેશના પશ્ચિમ ભાગમાં આવેલ...\n",
       "14909    જડા તા. દિયોદર ભારત દેશના પશ્ચિમ ભાગમાં આવેલા ...\n",
       "14910    જલોધા તા. દિયોદર ભારત દેશના પશ્ચિમ ભાગમાં આવેલ...\n",
       "Name: DATA, Length: 14911, dtype: object"
      ]
     },
     "execution_count": 7,
     "metadata": {},
     "output_type": "execute_result"
    }
   ],
   "source": [
    "preprocessed_text"
   ]
  },
  {
   "cell_type": "code",
   "execution_count": 8,
   "metadata": {},
   "outputs": [
    {
     "name": "stdout",
     "output_type": "stream",
     "text": [
      "Preprocessed data has been written to preprocessed_gujarati_wiki_data.txt\n"
     ]
    }
   ],
   "source": [
    "# Write the preprocessed text to a single .txt file\n",
    "with open(output_txt_path, 'w', encoding='utf-8') as out_file:\n",
    "    for line in preprocessed_text:\n",
    "        if line:  # Skip empty lines\n",
    "            out_file.write(line + '\\n')\n",
    "\n",
    "print(f\"Preprocessed data has been written to {output_txt_path}\")\n"
   ]
  },
  {
   "cell_type": "code",
   "execution_count": 9,
   "metadata": {},
   "outputs": [],
   "source": [
    "import os\n",
    "\n",
    "def merge_text_files(input_folder, output_folder, output_filename=\"merged_gujarati_texts.txt\"):\n",
    "    # Create the output folder if it doesn't exist\n",
    "    if not os.path.exists(output_folder):\n",
    "        os.makedirs(output_folder)\n",
    "    \n",
    "    # Path to the output file\n",
    "    output_path = os.path.join(output_folder, output_filename)\n",
    "\n",
    "    with open(output_path, 'w', encoding='utf-8') as outfile:\n",
    "        # Iterate through all files in the input folder\n",
    "        for filename in os.listdir(input_folder):\n",
    "            file_path = os.path.join(input_folder, filename)\n",
    "            # Check if the file is a text file\n",
    "            if os.path.isfile(file_path) and filename.endswith('.txt'):\n",
    "                with open(file_path, 'r', encoding='utf-8') as infile:\n",
    "                    # Read and write each file's content to the output file\n",
    "                    outfile.write(infile.read() + '\\n')\n",
    "\n",
    "    print(f\"All text files have been merged into {output_path}\")"
   ]
  },
  {
   "cell_type": "code",
   "execution_count": 10,
   "metadata": {},
   "outputs": [
    {
     "name": "stdout",
     "output_type": "stream",
     "text": [
      "All text files have been merged into merged_txt/merged_gujarati_texts.txt\n"
     ]
    }
   ],
   "source": [
    "input_folder = 'gujarati_texts'  # Replace with the path to your gujarati_texts folder\n",
    "output_folder = 'merged_txt'  # The folder where the merged file will be saved\n",
    "\n",
    "# Run the function to merge text files\n",
    "merge_text_files(input_folder, output_folder)\n"
   ]
  },
  {
   "cell_type": "code",
   "execution_count": null,
   "metadata": {},
   "outputs": [
    {
     "data": {
      "application/vnd.jupyter.widget-view+json": {
       "model_id": "e2a4fd050d61411489ad480e12509a33",
       "version_major": 2,
       "version_minor": 0
      },
      "text/plain": [
       "Resolving data files:   0%|          | 0/27 [00:00<?, ?it/s]"
      ]
     },
     "metadata": {},
     "output_type": "display_data"
    },
    {
     "data": {
      "application/vnd.jupyter.widget-view+json": {
       "model_id": "7417ac9692f549c4855e2af11cc5aa50",
       "version_major": 2,
       "version_minor": 0
      },
      "text/plain": [
       "Resolving data files:   0%|          | 0/27 [00:00<?, ?it/s]"
      ]
     },
     "metadata": {},
     "output_type": "display_data"
    },
    {
     "data": {
      "application/vnd.jupyter.widget-view+json": {
       "model_id": "5c9179b83b0d4102bc03b36365df936e",
       "version_major": 2,
       "version_minor": 0
      },
      "text/plain": [
       "Downloading data:   0%|          | 0/27 [00:00<?, ?files/s]"
      ]
     },
     "metadata": {},
     "output_type": "display_data"
    },
    {
     "data": {
      "application/vnd.jupyter.widget-view+json": {
       "model_id": "f25ec2cb140348a1a0c0cb110cfc77cf",
       "version_major": 2,
       "version_minor": 0
      },
      "text/plain": [
       "data-4.parquet:   0%|          | 0.00/374M [00:00<?, ?B/s]"
      ]
     },
     "metadata": {},
     "output_type": "display_data"
    },
    {
     "data": {
      "application/vnd.jupyter.widget-view+json": {
       "model_id": "c51012377f4340bfa93323d88f15b77c",
       "version_major": 2,
       "version_minor": 0
      },
      "text/plain": [
       "data-5.parquet:   0%|          | 0.00/376M [00:00<?, ?B/s]"
      ]
     },
     "metadata": {},
     "output_type": "display_data"
    },
    {
     "data": {
      "application/vnd.jupyter.widget-view+json": {
       "model_id": "f2e29db91de04d2fa5a5c601bbaa2778",
       "version_major": 2,
       "version_minor": 0
      },
      "text/plain": [
       "data-6.parquet:   0%|          | 0.00/344M [00:00<?, ?B/s]"
      ]
     },
     "metadata": {},
     "output_type": "display_data"
    }
   ],
   "source": [
    "from datasets import load_dataset\n",
    "\n",
    "ds = load_dataset(\n",
    "    \"ai4bharat/sangraha\",\n",
    "    data_files=\"verified/guj/*.parquet\",  # Specify the path to the subdirectory with parquet files\n",
    "    split=\"[:2]\"  # Adjust to limit the number of files/rows\n",
    ")"
   ]
  },
  {
   "cell_type": "code",
   "execution_count": null,
   "metadata": {},
   "outputs": [],
   "source": []
  }
 ],
 "metadata": {
  "kernelspec": {
   "display_name": "ml_env",
   "language": "python",
   "name": "python3"
  },
  "language_info": {
   "codemirror_mode": {
    "name": "ipython",
    "version": 3
   },
   "file_extension": ".py",
   "mimetype": "text/x-python",
   "name": "python",
   "nbconvert_exporter": "python",
   "pygments_lexer": "ipython3",
   "version": "3.9.19"
  }
 },
 "nbformat": 4,
 "nbformat_minor": 2
}
