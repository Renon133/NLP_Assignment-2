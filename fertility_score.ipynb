{
 "cells": [
  {
   "cell_type": "code",
   "execution_count": 2,
   "metadata": {},
   "outputs": [
    {
     "name": "stdout",
     "output_type": "stream",
     "text": [
      "Collecting nltk\n",
      "  Downloading nltk-3.9.1-py3-none-any.whl.metadata (2.9 kB)\n",
      "Collecting click (from nltk)\n",
      "  Using cached click-8.1.7-py3-none-any.whl.metadata (3.0 kB)\n",
      "Requirement already satisfied: joblib in /Users/leon/anaconda3/envs/ml_env/lib/python3.9/site-packages (from nltk) (1.4.2)\n",
      "Requirement already satisfied: regex>=2021.8.3 in /Users/leon/anaconda3/envs/ml_env/lib/python3.9/site-packages (from nltk) (2024.11.6)\n",
      "Requirement already satisfied: tqdm in /Users/leon/anaconda3/envs/ml_env/lib/python3.9/site-packages (from nltk) (4.66.5)\n",
      "Downloading nltk-3.9.1-py3-none-any.whl (1.5 MB)\n",
      "\u001b[2K   \u001b[90m━━━━━━━━━━━━━━━━━━━━━━━━━━━━━━━━━━━━━━━━\u001b[0m \u001b[32m1.5/1.5 MB\u001b[0m \u001b[31m9.1 MB/s\u001b[0m eta \u001b[36m0:00:00\u001b[0m\n",
      "\u001b[?25hUsing cached click-8.1.7-py3-none-any.whl (97 kB)\n",
      "Installing collected packages: click, nltk\n",
      "Successfully installed click-8.1.7 nltk-3.9.1\n",
      "Note: you may need to restart the kernel to use updated packages.\n"
     ]
    }
   ],
   "source": [
    "%pip install nltk"
   ]
  },
  {
   "cell_type": "code",
   "execution_count": 3,
   "metadata": {},
   "outputs": [],
   "source": [
    "\n",
    "import os\n",
    "import re\n",
    "import pandas as pd\n",
    "from tqdm import tqdm\n",
    "from tokenizers import Tokenizer\n",
    "from nltk import word_tokenize\n",
    "import nltk\n"
   ]
  },
  {
   "cell_type": "code",
   "execution_count": 4,
   "metadata": {},
   "outputs": [
    {
     "name": "stderr",
     "output_type": "stream",
     "text": [
      "[nltk_data] Downloading package punkt to /Users/leon/nltk_data...\n",
      "[nltk_data]   Package punkt is already up-to-date!\n"
     ]
    },
    {
     "data": {
      "text/plain": [
       "True"
      ]
     },
     "execution_count": 4,
     "metadata": {},
     "output_type": "execute_result"
    }
   ],
   "source": [
    "# Download NLTK tokenizer data if not already installed\n",
    "nltk.download('punkt')"
   ]
  },
  {
   "cell_type": "code",
   "execution_count": 5,
   "metadata": {},
   "outputs": [],
   "source": [
    "def calculate_fertility_score(tokenizer_path, data_path):\n",
    "    # Load the tokenizer from the specified path\n",
    "    tokenizer = Tokenizer.from_file(os.path.join(tokenizer_path, \"tokenizer.json\"))\n",
    "    \n",
    "    # Read the text file line by line\n",
    "    with open(data_path, 'r', encoding='utf-8') as file:\n",
    "        lines = file.readlines()\n",
    "\n",
    "    total_tokens = 0\n",
    "    total_words = 0\n",
    "\n",
    "    for line in tqdm(lines, desc=f\"Calculating fertility for {tokenizer_path}\"):\n",
    "        # Tokenize words using NLTK and encode using the tokenizer\n",
    "        words = word_tokenize(line)\n",
    "        num_words = len(words)\n",
    "        num_tokens = len(tokenizer.encode(line).tokens)\n",
    "\n",
    "        total_words += num_words\n",
    "        total_tokens += num_tokens\n",
    "\n",
    "    # Calculate the fertility score\n",
    "    fertility_score = total_tokens / total_words if total_words > 0 else 0\n",
    "    return fertility_score\n"
   ]
  },
  {
   "cell_type": "code",
   "execution_count": 16,
   "metadata": {},
   "outputs": [
    {
     "name": "stderr",
     "output_type": "stream",
     "text": [
      "Calculating fertility for ./gujarati_tokenizer/tokenizer_1: 100%|██████████| 344367/344367 [01:54<00:00, 3005.64it/s]\n",
      "Calculating fertility for ./gujarati_tokenizer/tokenizer_2: 100%|██████████| 1043120/1043120 [01:39<00:00, 10525.70it/s]\n",
      "Calculating fertility for ./gujarati_tokenizer/tokenizer_3: 100%|██████████| 736283/736283 [03:17<00:00, 3721.48it/s]\n",
      "Calculating fertility for ./gujarati_tokenizer/tokenizer_4: 100%|██████████| 1832983/1832983 [08:15<00:00, 3702.41it/s]\n",
      "Calculating fertility for ./gujarati_tokenizer/tokenizer_5: 100%|██████████| 367193/367193 [01:38<00:00, 3718.61it/s]\n"
     ]
    }
   ],
   "source": [
    "tokenizer_base_path = './gujarati_tokenizer'  # Base path to the folder containing tokenizers\n",
    "data_path = ['preprocessed_gujarati_data.txt', './merged_txt/merged_gujarati_texts.txt', 'gujarati_ai4bharat_1.txt', 'gujarati_ai4bharat_2.txt', 'gujarati_ai4bharat.txt']  # Replace with the correct path to your .txt file\n",
    "num_tokenizers = 5\n",
    "# Initialize a list to store results\n",
    "results = []\n",
    "\n",
    "# Loop through tokenizers (assuming they are named tokenizer_1, tokenizer_2, ..., tokenizer_5)\n",
    "for i in range(1, num_tokenizers+1):  # Adjust the range if you have more or fewer tokenizers\n",
    "    tokenizer_path = os.path.join(tokenizer_base_path, f\"tokenizer_{i}\")\n",
    "    dataset_path = data_path[i-1]\n",
    "    if os.path.exists(tokenizer_path):\n",
    "        # Calculate the fertility score and add to results\n",
    "        fertility_score = calculate_fertility_score(tokenizer_path, dataset_path)\n",
    "        dataset_size = os.path.getsize(dataset_path) / (1024 * 1024)  # Convert to MB\n",
    "        results.append({\n",
    "            \"Tokenizer\": f\"Tokenizer_{i}\",\n",
    "            \"Fertility Score\": fertility_score,\n",
    "            \"Dataset Size (MB)\": round(dataset_size, 2)\n",
    "        })\n"
   ]
  },
  {
   "cell_type": "code",
   "execution_count": 17,
   "metadata": {},
   "outputs": [
    {
     "name": "stdout",
     "output_type": "stream",
     "text": [
      "Fertility Score Matrix:\n"
     ]
    },
    {
     "data": {
      "text/html": [
       "<div>\n",
       "<style scoped>\n",
       "    .dataframe tbody tr th:only-of-type {\n",
       "        vertical-align: middle;\n",
       "    }\n",
       "\n",
       "    .dataframe tbody tr th {\n",
       "        vertical-align: top;\n",
       "    }\n",
       "\n",
       "    .dataframe thead th {\n",
       "        text-align: right;\n",
       "    }\n",
       "</style>\n",
       "<table border=\"1\" class=\"dataframe\">\n",
       "  <thead>\n",
       "    <tr style=\"text-align: right;\">\n",
       "      <th></th>\n",
       "      <th>Tokenizer</th>\n",
       "      <th>Fertility Score</th>\n",
       "      <th>Dataset Size (MB)</th>\n",
       "    </tr>\n",
       "  </thead>\n",
       "  <tbody>\n",
       "    <tr>\n",
       "      <th>0</th>\n",
       "      <td>Tokenizer_1</td>\n",
       "      <td>1.246909</td>\n",
       "      <td>232.62</td>\n",
       "    </tr>\n",
       "    <tr>\n",
       "      <th>1</th>\n",
       "      <td>Tokenizer_2</td>\n",
       "      <td>1.264182</td>\n",
       "      <td>247.25</td>\n",
       "    </tr>\n",
       "    <tr>\n",
       "      <th>2</th>\n",
       "      <td>Tokenizer_3</td>\n",
       "      <td>1.260850</td>\n",
       "      <td>473.15</td>\n",
       "    </tr>\n",
       "    <tr>\n",
       "      <th>3</th>\n",
       "      <td>Tokenizer_4</td>\n",
       "      <td>1.261833</td>\n",
       "      <td>1177.95</td>\n",
       "    </tr>\n",
       "    <tr>\n",
       "      <th>4</th>\n",
       "      <td>Tokenizer_5</td>\n",
       "      <td>1.260127</td>\n",
       "      <td>235.76</td>\n",
       "    </tr>\n",
       "  </tbody>\n",
       "</table>\n",
       "</div>"
      ],
      "text/plain": [
       "     Tokenizer  Fertility Score  Dataset Size (MB)\n",
       "0  Tokenizer_1         1.246909             232.62\n",
       "1  Tokenizer_2         1.264182             247.25\n",
       "2  Tokenizer_3         1.260850             473.15\n",
       "3  Tokenizer_4         1.261833            1177.95\n",
       "4  Tokenizer_5         1.260127             235.76"
      ]
     },
     "metadata": {},
     "output_type": "display_data"
    }
   ],
   "source": [
    "\n",
    "results_df = pd.DataFrame(results)\n",
    "print(\"Fertility Score Matrix:\")\n",
    "display(results_df)  \n"
   ]
  },
  {
   "cell_type": "code",
   "execution_count": null,
   "metadata": {},
   "outputs": [],
   "source": []
  }
 ],
 "metadata": {
  "kernelspec": {
   "display_name": "ml_env",
   "language": "python",
   "name": "python3"
  },
  "language_info": {
   "codemirror_mode": {
    "name": "ipython",
    "version": 3
   },
   "file_extension": ".py",
   "mimetype": "text/x-python",
   "name": "python",
   "nbconvert_exporter": "python",
   "pygments_lexer": "ipython3",
   "version": "3.9.19"
  }
 },
 "nbformat": 4,
 "nbformat_minor": 2
}
