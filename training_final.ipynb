{
 "cells": [
  {
   "cell_type": "code",
   "execution_count": 1,
   "metadata": {},
   "outputs": [],
   "source": [
    "# !pip install transformers"
   ]
  },
  {
   "cell_type": "code",
   "execution_count": 2,
   "metadata": {},
   "outputs": [],
   "source": [
    "import pandas as pd\n",
    "import numpy as np\n",
    "# import glob\n",
    "# import re\n",
    "\n",
    "# from tokenizers import SentencePieceBPETokenizer, normalizers, decoders\n",
    "# from tokenizers.normalizers import Replace\n",
    "\n",
    "# from nltk.tokenize import word_tokenize\n",
    "\n",
    "from transformers import AutoConfig, AutoModelForCausalLM\n",
    "from transformers import PreTrainedTokenizerFast\n",
    "import torch"
   ]
  },
  {
   "cell_type": "code",
   "execution_count": 3,
   "metadata": {},
   "outputs": [
    {
     "name": "stdout",
     "output_type": "stream",
     "text": [
      "Total parameters: 23623680\n"
     ]
    }
   ],
   "source": [
    "config = AutoConfig.from_pretrained(\"openai-community/gpt2\")\n",
    "\n",
    "config.n_head = 6\n",
    "config.n_layer = 6\n",
    "config.vocab_size = 32768\n",
    "config.n_embd = 384\n",
    "config.n_ctx = 768\n",
    "\n",
    "model = AutoModelForCausalLM.from_config(config=config)\n",
    "total_params = sum(p.numel() for p in model.parameters())\n",
    "print(f\"Total parameters: {total_params}\")"
   ]
  },
  {
   "cell_type": "code",
   "execution_count": 4,
   "metadata": {},
   "outputs": [],
   "source": [
    "# import zipfile\n",
    "\n",
    "# # Replace 'path/to/your/file.zip' with your actual zip file path\n",
    "# with zipfile.ZipFile('Archive 2.zip', 'r') as zip_ref:\n",
    "#     zip_ref.extractall('train')  # Specify the directory to extract to"
   ]
  },
  {
   "cell_type": "code",
   "execution_count": 5,
   "metadata": {},
   "outputs": [],
   "source": [
    "X, Y = torch.load('train/X_train.pt'), torch.load(\"train/Y_train.pt\")"
   ]
  },
  {
   "cell_type": "code",
   "execution_count": 6,
   "metadata": {},
   "outputs": [
    {
     "data": {
      "text/plain": [
       "torch.Size([44789637, 22])"
      ]
     },
     "execution_count": 6,
     "metadata": {},
     "output_type": "execute_result"
    }
   ],
   "source": [
    "X.shape"
   ]
  },
  {
   "cell_type": "code",
   "execution_count": 7,
   "metadata": {},
   "outputs": [
    {
     "data": {
      "text/plain": [
       "'cuda'"
      ]
     },
     "execution_count": 7,
     "metadata": {},
     "output_type": "execute_result"
    }
   ],
   "source": [
    "device = 'cuda' if torch.cuda.is_available() else 'cpu'\n",
    "device"
   ]
  },
  {
   "cell_type": "code",
   "execution_count": 8,
   "metadata": {},
   "outputs": [],
   "source": [
    "model = model.to(device)"
   ]
  },
  {
   "cell_type": "code",
   "execution_count": 9,
   "metadata": {},
   "outputs": [],
   "source": [
    "X = X[:6398519]\n",
    "Y = Y[:6398519]"
   ]
  },
  {
   "cell_type": "code",
   "execution_count": 10,
   "metadata": {},
   "outputs": [
    {
     "name": "stdout",
     "output_type": "stream",
     "text": [
      "Perplexity at epoch 1, step 638976: 5127.94580078125\n",
      "Perplexity at epoch 1, step 1277952: 4184.46923828125\n",
      "Perplexity at epoch 1, step 1916928: 3767.223876953125\n",
      "Perplexity at epoch 1, step 2555904: 3658.64208984375\n",
      "Perplexity at epoch 1, step 3194880: 3458.20263671875\n",
      "Perplexity at epoch 1, step 3833856: 3287.859130859375\n",
      "Perplexity at epoch 1, step 4472832: 3117.395263671875\n",
      "Perplexity at epoch 1, step 5111808: 3039.694091796875\n",
      "Perplexity at epoch 1, step 5750784: 2946.571533203125\n",
      "Perplexity at epoch 1, step 6389760: 2859.95166015625\n",
      "Checkpoint saved at ./model_checkpoints/model_epoch_1.pth\n",
      "Loss of epoch 1: 7.957959587849852\n",
      "Perplexity at epoch 2, step 638976: 1914.7987060546875\n",
      "Perplexity at epoch 2, step 1277952: 1564.8646240234375\n",
      "Perplexity at epoch 2, step 1916928: 1466.860595703125\n",
      "Perplexity at epoch 2, step 2555904: 1616.5146484375\n",
      "Perplexity at epoch 2, step 3194880: 1694.4749755859375\n",
      "Perplexity at epoch 2, step 3833856: 1776.782958984375\n",
      "Perplexity at epoch 2, step 4472832: 1760.5323486328125\n",
      "Perplexity at epoch 2, step 5111808: 1792.544921875\n",
      "Perplexity at epoch 2, step 5750784: 1812.52587890625\n",
      "Perplexity at epoch 2, step 6389760: 1824.554931640625\n",
      "Checkpoint saved at ./model_checkpoints/model_epoch_2.pth\n",
      "Loss of epoch 2: 7.508875066403447\n",
      "Perplexity at epoch 3, step 638976: 1618.2877197265625\n",
      "Perplexity at epoch 3, step 1277952: 1307.9141845703125\n",
      "Perplexity at epoch 3, step 1916928: 1229.5595703125\n",
      "Perplexity at epoch 3, step 2555904: 1356.843505859375\n",
      "Perplexity at epoch 3, step 3194880: 1423.2684326171875\n",
      "Perplexity at epoch 3, step 3833856: 1456.802734375\n",
      "Perplexity at epoch 3, step 4472832: 1429.7535400390625\n",
      "Perplexity at epoch 3, step 5111808: 1454.4705810546875\n",
      "Perplexity at epoch 3, step 5750784: 1468.553466796875\n",
      "Perplexity at epoch 3, step 6389760: 1470.4832763671875\n",
      "Checkpoint saved at ./model_checkpoints/model_epoch_3.pth\n",
      "Loss of epoch 3: 7.293214615411158\n",
      "Perplexity at epoch 4, step 638976: 1240.9984130859375\n",
      "Perplexity at epoch 4, step 1277952: 1017.2809448242188\n",
      "Perplexity at epoch 4, step 1916928: 1024.3516845703125\n",
      "Perplexity at epoch 4, step 2555904: 1224.3426513671875\n",
      "Perplexity at epoch 4, step 3194880: 1467.751220703125\n",
      "Perplexity at epoch 4, step 3833856: 1545.174560546875\n",
      "Perplexity at epoch 4, step 4472832: 1531.97998046875\n",
      "Perplexity at epoch 4, step 5111808: 1565.7020263671875\n",
      "Perplexity at epoch 4, step 5750784: 1583.147705078125\n",
      "Perplexity at epoch 4, step 6389760: 1578.606689453125\n",
      "Checkpoint saved at ./model_checkpoints/model_epoch_4.pth\n",
      "Loss of epoch 4: 7.363945697437078\n",
      "Perplexity at epoch 5, step 638976: 1177.1710205078125\n",
      "Perplexity at epoch 5, step 1277952: 970.9068603515625\n",
      "Perplexity at epoch 5, step 1916928: 932.1688232421875\n",
      "Perplexity at epoch 5, step 2555904: 1055.9769287109375\n",
      "Perplexity at epoch 5, step 3194880: 1147.0771484375\n",
      "Perplexity at epoch 5, step 3833856: 1227.9366455078125\n",
      "Perplexity at epoch 5, step 4472832: 1242.5836181640625\n",
      "Perplexity at epoch 5, step 5111808: 1303.2587890625\n",
      "Perplexity at epoch 5, step 5750784: 1343.0938720703125\n",
      "Perplexity at epoch 5, step 6389760: 1372.7950439453125\n",
      "Checkpoint saved at ./model_checkpoints/model_epoch_5.pth\n",
      "Loss of epoch 5: 7.224600012845317\n"
     ]
    }
   ],
   "source": [
    "from torch.optim import AdamW\n",
    "import torch\n",
    "import numpy as np\n",
    "import os\n",
    "\n",
    "# Define the path for saving model checkpoints\n",
    "checkpoint_dir = './model_checkpoints'\n",
    "os.makedirs(checkpoint_dir, exist_ok=True)\n",
    "\n",
    "optim = AdamW(model.parameters(), lr=0.01)\n",
    "batch_size = 1024\n",
    "train_size = len(X)\n",
    "logging_interval = 0.1\n",
    "total_loss = 0\n",
    "\n",
    "perplexity_list = np.array([])\n",
    "final_loss = np.array([])\n",
    "steps_per_epochs = len(range(0, train_size, batch_size))\n",
    "logging_step = int(steps_per_epochs * logging_interval)\n",
    "\n",
    "for epoch in range(5):\n",
    "    epoch_loss = np.array([])\n",
    "    model.train()  # Ensure the model is in training mode\n",
    "\n",
    "    for idx, iter in enumerate(range(0, train_size, batch_size)):\n",
    "        x = X[iter: iter + batch_size]\n",
    "        y = Y[iter: iter + batch_size]\n",
    "        x, y = x.to(device), y.to(device)\n",
    "\n",
    "        # Ensure y is a 1D tensor\n",
    "        y = y.squeeze()\n",
    "\n",
    "        # Forward pass\n",
    "        y_pred = model(x)\n",
    "        loss = torch.nn.functional.cross_entropy(y_pred.logits[:, -1, :], y)\n",
    "\n",
    "        # Accumulate the loss for logging\n",
    "        total_loss += loss.item()\n",
    "\n",
    "        # Zero out gradients, backpropagate, and update weights\n",
    "        optim.zero_grad()\n",
    "        loss.backward()\n",
    "        optim.step()\n",
    "\n",
    "        # Track epoch loss\n",
    "        epoch_loss = np.append(epoch_loss, loss.item())\n",
    "\n",
    "        # Log perplexity at specified intervals\n",
    "        if idx % logging_step == 0 and idx != 0:\n",
    "            avg_loss = total_loss / ((iter // batch_size) + 1)\n",
    "            perplexity = torch.exp(torch.tensor(avg_loss))\n",
    "            perplexity_list = np.append(perplexity_list, perplexity)\n",
    "            print(f\"Perplexity at epoch {epoch + 1}, step {iter}: {perplexity.item()}\")\n",
    "\n",
    "    # Save checkpoint after each epoch\n",
    "    checkpoint_path = os.path.join(checkpoint_dir, f'model_epoch_{epoch + 1}.pth')\n",
    "    torch.save({\n",
    "        'epoch': epoch + 1,\n",
    "        'model_state_dict': model.state_dict(),\n",
    "        'optimizer_state_dict': optim.state_dict(),\n",
    "        'loss': epoch_loss.mean()\n",
    "    }, checkpoint_path)\n",
    "    print(f\"Checkpoint saved at {checkpoint_path}\")\n",
    "\n",
    "    print(f\"Loss of epoch {epoch + 1}: {epoch_loss.mean()}\")\n",
    "    total_loss = 0  # Reset total_loss after each epoch\n"
   ]
  },
  {
   "cell_type": "code",
   "execution_count": 10,
   "metadata": {},
   "outputs": [
    {
     "name": "stderr",
     "output_type": "stream",
     "text": [
      "/var/folders/jv/6j759gh52pjg5xgj136xc96w0000gn/T/ipykernel_93397/3389737381.py:3: FutureWarning: You are using `torch.load` with `weights_only=False` (the current default value), which uses the default pickle module implicitly. It is possible to construct malicious pickle data which will execute arbitrary code during unpickling (See https://github.com/pytorch/pytorch/blob/main/SECURITY.md#untrusted-models for more details). In a future release, the default value for `weights_only` will be flipped to `True`. This limits the functions that could be executed during unpickling. Arbitrary objects will no longer be allowed to be loaded via this mode unless they are explicitly allowlisted by the user via `torch.serialization.add_safe_globals`. We recommend you start setting `weights_only=True` for any use case where you don't have full control of the loaded file. Please open an issue on GitHub for any issues related to this experimental feature.\n",
      "  perplexity_score = torch.load('./perplexity_list.pt').numpy()\n"
     ]
    },
    {
     "data": {
      "text/plain": [
       "Text(0, 0.5, 'perplexity score')"
      ]
     },
     "execution_count": 10,
     "metadata": {},
     "output_type": "execute_result"
    },
    {
     "data": {
      "image/png": "[encoded data removed]",
      "text/plain": [
       "<Figure size 640x480 with 1 Axes>"
      ]
     },
     "metadata": {},
     "output_type": "display_data"
    }
   ],
   "source": [
    "import matplotlib.pyplot as plt\n",
    "\n",
    "perplexity_score = torch.load('./perplexity_list.pt').numpy()\n",
    "\n",
    "plt.plot(perplexity_score)\n",
    "plt.xlabel('Intervals')\n",
    "plt.ylabel('perplexity score')"
   ]
  }
 ],
 "metadata": {
  "kernelspec": {
   "display_name": ".AI",
   "language": "python",
   "name": "python3"
  },
  "language_info": {
   "codemirror_mode": {
    "name": "ipython",
    "version": 3
   },
   "file_extension": ".py",
   "mimetype": "text/x-python",
   "name": "python",
   "nbconvert_exporter": "python",
   "pygments_lexer": "ipython3",
   "version": "3.12.5"
  }
 },
 "nbformat": 4,
 "nbformat_minor": 2
}
