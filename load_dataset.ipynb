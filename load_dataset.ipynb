{
 "cells": [
  {
   "cell_type": "code",
   "execution_count": 1,
   "metadata": {},
   "outputs": [
    {
     "data": {
      "application/vnd.jupyter.widget-view+json": {
       "model_id": "ecd86853175b4916a8cf19ee3dacb161",
       "version_major": 2,
       "version_minor": 0
      },
      "text/plain": [
       "Resolving data files:   0%|          | 0/27 [00:00<?, ?it/s]"
      ]
     },
     "metadata": {},
     "output_type": "display_data"
    },
    {
     "data": {
      "application/vnd.jupyter.widget-view+json": {
       "model_id": "f1ec3dbdfc324ad4a707504b3836a17d",
       "version_major": 2,
       "version_minor": 0
      },
      "text/plain": [
       "Downloading data:   0%|          | 0/27 [00:00<?, ?files/s]"
      ]
     },
     "metadata": {},
     "output_type": "display_data"
    },
    {
     "data": {
      "application/vnd.jupyter.widget-view+json": {
       "model_id": "6d52f41daf194c1baea8d081fe51e853",
       "version_major": 2,
       "version_minor": 0
      },
      "text/plain": [
       "data-1.parquet:  78%|#######8  | 294M/375M [00:00<?, ?B/s]"
      ]
     },
     "metadata": {},
     "output_type": "display_data"
    },
    {
     "data": {
      "application/vnd.jupyter.widget-view+json": {
       "model_id": "d79a231bd4db4269ae4897a21361fc58",
       "version_major": 2,
       "version_minor": 0
      },
      "text/plain": [
       "data-10.parquet:   0%|          | 0.00/376M [00:00<?, ?B/s]"
      ]
     },
     "metadata": {},
     "output_type": "display_data"
    },
    {
     "data": {
      "application/vnd.jupyter.widget-view+json": {
       "model_id": "425acb54615a4d3ea1a877c193027e75",
       "version_major": 2,
       "version_minor": 0
      },
      "text/plain": [
       "data-11.parquet:   0%|          | 0.00/375M [00:00<?, ?B/s]"
      ]
     },
     "metadata": {},
     "output_type": "display_data"
    },
    {
     "data": {
      "application/vnd.jupyter.widget-view+json": {
       "model_id": "b43b009550984a0695cdd6b3a0ad3f67",
       "version_major": 2,
       "version_minor": 0
      },
      "text/plain": [
       "data-12.parquet:   0%|          | 0.00/375M [00:00<?, ?B/s]"
      ]
     },
     "metadata": {},
     "output_type": "display_data"
    },
    {
     "data": {
      "application/vnd.jupyter.widget-view+json": {
       "model_id": "41e8c3ff6e1044ce8e465e9bb1893c26",
       "version_major": 2,
       "version_minor": 0
      },
      "text/plain": [
       "data-13.parquet:   0%|          | 0.00/375M [00:00<?, ?B/s]"
      ]
     },
     "metadata": {},
     "output_type": "display_data"
    },
    {
     "data": {
      "application/vnd.jupyter.widget-view+json": {
       "model_id": "9f74c8d51dc54a75b8a0da2a23cf9a4c",
       "version_major": 2,
       "version_minor": 0
      },
      "text/plain": [
       "data-14.parquet:   0%|          | 0.00/372M [00:00<?, ?B/s]"
      ]
     },
     "metadata": {},
     "output_type": "display_data"
    },
    {
     "data": {
      "application/vnd.jupyter.widget-view+json": {
       "model_id": "9aa738612bd34f3e8ee63869f0d2708e",
       "version_major": 2,
       "version_minor": 0
      },
      "text/plain": [
       "data-15.parquet:   0%|          | 0.00/375M [00:00<?, ?B/s]"
      ]
     },
     "metadata": {},
     "output_type": "display_data"
    },
    {
     "data": {
      "application/vnd.jupyter.widget-view+json": {
       "model_id": "219c71ec652641f5a246f704d1f08ac4",
       "version_major": 2,
       "version_minor": 0
      },
      "text/plain": [
       "data-16.parquet:   0%|          | 0.00/375M [00:00<?, ?B/s]"
      ]
     },
     "metadata": {},
     "output_type": "display_data"
    },
    {
     "data": {
      "application/vnd.jupyter.widget-view+json": {
       "model_id": "9158d6404d894da391db86079402bbc3",
       "version_major": 2,
       "version_minor": 0
      },
      "text/plain": [
       "data-17.parquet:   0%|          | 0.00/375M [00:00<?, ?B/s]"
      ]
     },
     "metadata": {},
     "output_type": "display_data"
    },
    {
     "data": {
      "application/vnd.jupyter.widget-view+json": {
       "model_id": "13b1616d1c0d4f8db394dbd155159619",
       "version_major": 2,
       "version_minor": 0
      },
      "text/plain": [
       "data-18.parquet:   0%|          | 0.00/344M [00:00<?, ?B/s]"
      ]
     },
     "metadata": {},
     "output_type": "display_data"
    },
    {
     "data": {
      "application/vnd.jupyter.widget-view+json": {
       "model_id": "80a6dd375f534fdfbd34b650a85164e3",
       "version_major": 2,
       "version_minor": 0
      },
      "text/plain": [
       "data-19.parquet:   0%|          | 0.00/374M [00:00<?, ?B/s]"
      ]
     },
     "metadata": {},
     "output_type": "display_data"
    },
    {
     "data": {
      "application/vnd.jupyter.widget-view+json": {
       "model_id": "91b63ea7f5e84c4a99b27c29b8750060",
       "version_major": 2,
       "version_minor": 0
      },
      "text/plain": [
       "data-2.parquet:   0%|          | 0.00/373M [00:00<?, ?B/s]"
      ]
     },
     "metadata": {},
     "output_type": "display_data"
    },
    {
     "data": {
      "application/vnd.jupyter.widget-view+json": {
       "model_id": "26d3e833320c40c3857933ed7a70085b",
       "version_major": 2,
       "version_minor": 0
      },
      "text/plain": [
       "data-20.parquet:   0%|          | 0.00/345M [00:00<?, ?B/s]"
      ]
     },
     "metadata": {},
     "output_type": "display_data"
    },
    {
     "data": {
      "application/vnd.jupyter.widget-view+json": {
       "model_id": "d3fc3b521804429faf42206cf070ef64",
       "version_major": 2,
       "version_minor": 0
      },
      "text/plain": [
       "data-21.parquet:   0%|          | 0.00/346M [00:00<?, ?B/s]"
      ]
     },
     "metadata": {},
     "output_type": "display_data"
    },
    {
     "data": {
      "application/vnd.jupyter.widget-view+json": {
       "model_id": "bdfba16a15854d1fb915ba1a4ef0893d",
       "version_major": 2,
       "version_minor": 0
      },
      "text/plain": [
       "data-22.parquet:   0%|          | 0.00/376M [00:00<?, ?B/s]"
      ]
     },
     "metadata": {},
     "output_type": "display_data"
    },
    {
     "data": {
      "application/vnd.jupyter.widget-view+json": {
       "model_id": "d18943af1c5a4c71a79a9fdd9638c133",
       "version_major": 2,
       "version_minor": 0
      },
      "text/plain": [
       "data-23.parquet:   0%|          | 0.00/375M [00:00<?, ?B/s]"
      ]
     },
     "metadata": {},
     "output_type": "display_data"
    },
    {
     "data": {
      "application/vnd.jupyter.widget-view+json": {
       "model_id": "6c6b81a0d4954b7b9605a7fda4cbc072",
       "version_major": 2,
       "version_minor": 0
      },
      "text/plain": [
       "data-24.parquet:   0%|          | 0.00/373M [00:00<?, ?B/s]"
      ]
     },
     "metadata": {},
     "output_type": "display_data"
    },
    {
     "data": {
      "application/vnd.jupyter.widget-view+json": {
       "model_id": "fd285a5d61724c51b2ff9e0b71377be9",
       "version_major": 2,
       "version_minor": 0
      },
      "text/plain": [
       "data-25.parquet:   0%|          | 0.00/344M [00:00<?, ?B/s]"
      ]
     },
     "metadata": {},
     "output_type": "display_data"
    },
    {
     "data": {
      "application/vnd.jupyter.widget-view+json": {
       "model_id": "f5176775dbfc4337a71787dec235e09f",
       "version_major": 2,
       "version_minor": 0
      },
      "text/plain": [
       "data-26.parquet:   0%|          | 0.00/374M [00:00<?, ?B/s]"
      ]
     },
     "metadata": {},
     "output_type": "display_data"
    },
    {
     "data": {
      "application/vnd.jupyter.widget-view+json": {
       "model_id": "f9435bb323ef4381857c54328ac4d80f",
       "version_major": 2,
       "version_minor": 0
      },
      "text/plain": [
       "data-3.parquet:   0%|          | 0.00/375M [00:00<?, ?B/s]"
      ]
     },
     "metadata": {},
     "output_type": "display_data"
    },
    {
     "data": {
      "application/vnd.jupyter.widget-view+json": {
       "model_id": "5514332106ee44baa5a98bb9ae44ff53",
       "version_major": 2,
       "version_minor": 0
      },
      "text/plain": [
       "data-6.parquet:  85%|########5 | 294M/344M [00:00<?, ?B/s]"
      ]
     },
     "metadata": {},
     "output_type": "display_data"
    },
    {
     "data": {
      "application/vnd.jupyter.widget-view+json": {
       "model_id": "3211bba90c4b4c31a402e8d43ee758ad",
       "version_major": 2,
       "version_minor": 0
      },
      "text/plain": [
       "data-7.parquet:   0%|          | 0.00/374M [00:00<?, ?B/s]"
      ]
     },
     "metadata": {},
     "output_type": "display_data"
    },
    {
     "data": {
      "application/vnd.jupyter.widget-view+json": {
       "model_id": "d90bfa20702944d69e58229aa6564057",
       "version_major": 2,
       "version_minor": 0
      },
      "text/plain": [
       "data-8.parquet:   0%|          | 0.00/342M [00:00<?, ?B/s]"
      ]
     },
     "metadata": {},
     "output_type": "display_data"
    },
    {
     "data": {
      "application/vnd.jupyter.widget-view+json": {
       "model_id": "c2ebb2098fc94a13a66d68fc1b0cc445",
       "version_major": 2,
       "version_minor": 0
      },
      "text/plain": [
       "data-9.parquet:   0%|          | 0.00/375M [00:00<?, ?B/s]"
      ]
     },
     "metadata": {},
     "output_type": "display_data"
    },
    {
     "data": {
      "application/vnd.jupyter.widget-view+json": {
       "model_id": "b3237024d74649c78a5c924c93c01884",
       "version_major": 2,
       "version_minor": 0
      },
      "text/plain": [
       "Generating train split: 0 examples [00:00, ? examples/s]"
      ]
     },
     "metadata": {},
     "output_type": "display_data"
    }
   ],
   "source": [
    "from datasets import load_dataset\n",
    "import os\n",
    "\n",
    "\n",
    "\n",
    "dataset = load_dataset(\"ai4bharat/sangraha\", data_dir=\"verified/guj\", split=\"train[:1%]\")\n",
    "# for example: dataset = load_dataset(\"ai4bharat/sangraha\", data_dir=\"verified/asm\")\n"
   ]
  },
  {
   "cell_type": "code",
   "execution_count": null,
   "metadata": {},
   "outputs": [],
   "source": [
    "import pandas as pd\n",
    "\n",
    "guj_df = pd.DataFrame(dataset)"
   ]
  },
  {
   "cell_type": "code",
   "execution_count": 7,
   "metadata": {},
   "outputs": [],
   "source": [
    "guj_text = guj_df['text']"
   ]
  },
  {
   "cell_type": "code",
   "execution_count": 8,
   "metadata": {},
   "outputs": [
    {
     "data": {
      "text/plain": [
       "0        જામનગર :\\nજામનગર જિલ્લામાં ડામર ચોરીના કૌભાંડમ...\n",
       "1        Bબીબી પ્રમુખ એક્રેમ İમામોલાએ મેસિડિએક્ય-મહમૂત્...\n",
       "2        અમદાવાદઃ 2008માં અમદાવાદના અલગ-અલગ વિસ્તારોમાં...\n",
       "3        Vivo V15 Proમાં 6. 39 ઈંચની સ્ક્રીન છે અને સ્ક...\n",
       "4        પૂ. મોરારિબાપુના શ્રીમુખેથી ગવાઈ રહેલી અલમોડાન...\n",
       "                               ...                        \n",
       "39696    મુંબઈ, તારક મહેતા કા ઉલ્ટા ચશ્મા એ પ્રખ્યાત શો...\n",
       "39697    પણ અતિક્લિષ્ટ છે. જે ધર્માં એક સુપુત્ર જન્મ આપ...\n",
       "39698    મોરબી : વિવિધ પ્રકારની માનવ સેવા પ્રદાન કરતા જ...\n",
       "39699    વાત્સલ્યમ્ સમાચાર આરીફ દિવાન મોરબી -મોરબીના આલ...\n",
       "39700    જ્યારે કોઇ વ્યક્ત કિસ કરે ત્યારે તેનું બ્લડ પ્...\n",
       "Name: text, Length: 39701, dtype: object"
      ]
     },
     "execution_count": 8,
     "metadata": {},
     "output_type": "execute_result"
    }
   ],
   "source": [
    "guj_text"
   ]
  },
  {
   "cell_type": "code",
   "execution_count": 21,
   "metadata": {},
   "outputs": [
    {
     "data": {
      "application/vnd.jupyter.widget-view+json": {
       "model_id": "a64045cdf93a4cf489f4f075fbd6fc20",
       "version_major": 2,
       "version_minor": 0
      },
      "text/plain": [
       "Resolving data files:   0%|          | 0/27 [00:00<?, ?it/s]"
      ]
     },
     "metadata": {},
     "output_type": "display_data"
    }
   ],
   "source": [
    "larger_dataset = load_dataset(\"ai4bharat/sangraha\", data_dir=\"verified/guj\", split=\"train[:20%]\")\n"
   ]
  },
  {
   "cell_type": "code",
   "execution_count": 22,
   "metadata": {},
   "outputs": [],
   "source": [
    "larger_text = pd.DataFrame(larger_dataset)['text']"
   ]
  },
  {
   "cell_type": "code",
   "execution_count": 19,
   "metadata": {},
   "outputs": [
    {
     "data": {
      "text/plain": [
       "0        જામનગર :\\nજામનગર જિલ્લામાં ડામર ચોરીના કૌભાંડમ...\n",
       "1        Bબીબી પ્રમુખ એક્રેમ İમામોલાએ મેસિડિએક્ય-મહમૂત્...\n",
       "2        અમદાવાદઃ 2008માં અમદાવાદના અલગ-અલગ વિસ્તારોમાં...\n",
       "3        Vivo V15 Proમાં 6. 39 ઈંચની સ્ક્રીન છે અને સ્ક...\n",
       "4        પૂ. મોરારિબાપુના શ્રીમુખેથી ગવાઈ રહેલી અલમોડાન...\n",
       "                               ...                        \n",
       "79397    આચાર્ય ડો. લોકેશજીની અધ્યક્ષતામાં માણક અલંકરણ ...\n",
       "79398    બસો, સબવે અને ફેરી માટેનું ઉનાળાનું શેડ્યૂલ, જ...\n",
       "79399    Asia Cup Pak vs HK: પાકિસ્તાને એશિયા કપ 2022ની...\n",
       "79400    પ્રાચીન ભારતે અપાર સમૃદ્ધિનો સમય જોયો છે; પછી ...\n",
       "79401    માધવપુર ઘેડ ખાતે આવેલ હનુમાનજી મંદિરે આજરોજ હન...\n",
       "Name: text, Length: 79402, dtype: object"
      ]
     },
     "execution_count": 19,
     "metadata": {},
     "output_type": "execute_result"
    }
   ],
   "source": [
    "larger_text"
   ]
  },
  {
   "cell_type": "code",
   "execution_count": 23,
   "metadata": {},
   "outputs": [
    {
     "name": "stdout",
     "output_type": "stream",
     "text": [
      "Preprocessed data has been written to gujarati_ai4bharat_20%.txt\n"
     ]
    }
   ],
   "source": [
    "# Write the preprocessed text to a single .txt file\n",
    "output_txt_path = \"gujarati_ai4bharat_20%.txt\"\n",
    "with open(output_txt_path, 'w', encoding='utf-8') as out_file:\n",
    "    for line in larger_text:\n",
    "        if line:  # Skip empty lines\n",
    "            out_file.write(line + '\\n')\n",
    "\n",
    "print(f\"Preprocessed data has been written to {output_txt_path}\")\n"
   ]
  },
  {
   "cell_type": "code",
   "execution_count": null,
   "metadata": {},
   "outputs": [],
   "source": [
    "# Define the output directory and total size to process\n",
    "output_dir = \"segmented_texts\"\n",
    "os.makedirs(output_dir, exist_ok=True)\n",
    "\n",
    "# Variables for processing\n",
    "total_size_in_bytes = 5 * 1024 * 1024 * 1024  # 5GB in bytes\n",
    "segment_size_in_bytes = 1 * 1024 * 1024 * 1024  # 1GB in bytes\n",
    "current_size = 0\n",
    "file_index = 1\n",
    "\n",
    "# Open the first output file\n",
    "output_file = open(os.path.join(output_dir, f\"segment_{file_index}.txt\"), 'w', encoding='utf-8')\n",
    "\n",
    "# Iterate through the dataset and write to segmented files\n",
    "for item in ds['train']:  # Adjust this if your dataset split is different\n",
    "    text = item['text']  # Replace 'text' with the appropriate field in your dataset if different\n",
    "    if not text:\n",
    "        continue\n",
    "\n",
    "    # Write the text and check the size\n",
    "    output_file.write(text + '\\n')\n",
    "    current_size += len(text.encode('utf-8'))\n",
    "\n",
    "    # If the current file exceeds 1GB, start a new file\n",
    "    if current_size >= segment_size_in_bytes:\n",
    "        output_file.close()\n",
    "        current_size = 0\n",
    "        file_index += 1\n",
    "\n",
    "        # Stop when 5GB is reached\n",
    "        if file_index > 5:\n",
    "            break\n",
    "\n",
    "        # Open a new file for the next segment\n",
    "        output_file = open(os.path.join(output_dir, f\"segment_{file_index}.txt\"), 'w', encoding='utf-8')\n",
    "\n",
    "# Close the last file if it is still open\n",
    "output_file.close()\n",
    "\n",
    "print(f\"Segmented files have been saved in the '{output_dir}' directory.\")\n"
   ]
  }
 ],
 "metadata": {
  "kernelspec": {
   "display_name": "ml_env",
   "language": "python",
   "name": "python3"
  },
  "language_info": {
   "codemirror_mode": {
    "name": "ipython",
    "version": 3
   },
   "file_extension": ".py",
   "mimetype": "text/x-python",
   "name": "python",
   "nbconvert_exporter": "python",
   "pygments_lexer": "ipython3",
   "version": "3.9.19"
  }
 },
 "nbformat": 4,
 "nbformat_minor": 2
}
